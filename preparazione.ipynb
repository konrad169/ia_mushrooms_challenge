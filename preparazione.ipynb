{
 "cells": [
  {
   "cell_type": "code",
   "execution_count": 6,
   "metadata": {
    "collapsed": true
   },
   "outputs": [
    {
     "name": "stdout",
     "output_type": "stream",
     "text": [
      "\u001B[33mWARNING: Ignoring invalid distribution -sutil (/Library/Frameworks/Python.framework/Versions/3.7/lib/python3.7/site-packages)\u001B[0m\r\n",
      "\u001B[33mWARNING: Ignoring invalid distribution -sutil (/Library/Frameworks/Python.framework/Versions/3.7/lib/python3.7/site-packages)\u001B[0m\r\n",
      "Requirement already satisfied: scikit-learn==0.23.1 in /Library/Frameworks/Python.framework/Versions/3.7/lib/python3.7/site-packages (from -r requirements.txt (line 1)) (0.23.1)\r\n",
      "Requirement already satisfied: matplotlib==3.2.2 in /Library/Frameworks/Python.framework/Versions/3.7/lib/python3.7/site-packages (from -r requirements.txt (line 2)) (3.2.2)\r\n",
      "Requirement already satisfied: pandas==1.0.5 in /Library/Frameworks/Python.framework/Versions/3.7/lib/python3.7/site-packages (from -r requirements.txt (line 3)) (1.0.5)\r\n",
      "Requirement already satisfied: numpy==1.18.5 in /Library/Frameworks/Python.framework/Versions/3.7/lib/python3.7/site-packages (from -r requirements.txt (line 4)) (1.18.5)\r\n",
      "Requirement already satisfied: seaborn==0.10.1 in /Library/Frameworks/Python.framework/Versions/3.7/lib/python3.7/site-packages (from -r requirements.txt (line 5)) (0.10.1)\r\n",
      "Requirement already satisfied: scipy>=0.19.1 in /Library/Frameworks/Python.framework/Versions/3.7/lib/python3.7/site-packages (from scikit-learn==0.23.1->-r requirements.txt (line 1)) (1.5.1)\r\n",
      "Requirement already satisfied: joblib>=0.11 in /Library/Frameworks/Python.framework/Versions/3.7/lib/python3.7/site-packages (from scikit-learn==0.23.1->-r requirements.txt (line 1)) (0.16.0)\r\n",
      "Requirement already satisfied: threadpoolctl>=2.0.0 in /Library/Frameworks/Python.framework/Versions/3.7/lib/python3.7/site-packages (from scikit-learn==0.23.1->-r requirements.txt (line 1)) (2.1.0)\r\n",
      "Requirement already satisfied: kiwisolver>=1.0.1 in /Library/Frameworks/Python.framework/Versions/3.7/lib/python3.7/site-packages (from matplotlib==3.2.2->-r requirements.txt (line 2)) (1.3.1)\r\n",
      "Requirement already satisfied: pyparsing!=2.0.4,!=2.1.2,!=2.1.6,>=2.0.1 in /Library/Frameworks/Python.framework/Versions/3.7/lib/python3.7/site-packages (from matplotlib==3.2.2->-r requirements.txt (line 2)) (2.4.7)\r\n",
      "Requirement already satisfied: python-dateutil>=2.1 in /Library/Frameworks/Python.framework/Versions/3.7/lib/python3.7/site-packages (from matplotlib==3.2.2->-r requirements.txt (line 2)) (2.8.1)\r\n",
      "Requirement already satisfied: cycler>=0.10 in /Library/Frameworks/Python.framework/Versions/3.7/lib/python3.7/site-packages (from matplotlib==3.2.2->-r requirements.txt (line 2)) (0.10.0)\r\n",
      "Requirement already satisfied: pytz>=2017.2 in /Library/Frameworks/Python.framework/Versions/3.7/lib/python3.7/site-packages (from pandas==1.0.5->-r requirements.txt (line 3)) (2020.1)\r\n",
      "Requirement already satisfied: six in /Library/Frameworks/Python.framework/Versions/3.7/lib/python3.7/site-packages (from cycler>=0.10->matplotlib==3.2.2->-r requirements.txt (line 2)) (1.15.0)\r\n",
      "\u001B[33mWARNING: Ignoring invalid distribution -sutil (/Library/Frameworks/Python.framework/Versions/3.7/lib/python3.7/site-packages)\u001B[0m\r\n",
      "\u001B[33mWARNING: Ignoring invalid distribution -sutil (/Library/Frameworks/Python.framework/Versions/3.7/lib/python3.7/site-packages)\u001B[0m\r\n",
      "\u001B[33mWARNING: Ignoring invalid distribution -sutil (/Library/Frameworks/Python.framework/Versions/3.7/lib/python3.7/site-packages)\u001B[0m\r\n",
      "\u001B[33mWARNING: Ignoring invalid distribution -sutil (/Library/Frameworks/Python.framework/Versions/3.7/lib/python3.7/site-packages)\u001B[0m\r\n",
      "\u001B[33mWARNING: You are using pip version 21.1.1; however, version 21.1.2 is available.\r\n",
      "You should consider upgrading via the '/Library/Frameworks/Python.framework/Versions/3.7/bin/python3.7 -m pip install --upgrade pip' command.\u001B[0m\r\n"
     ]
    }
   ],
   "source": [
    "!pip install -r requirements.txt"
   ]
  },
  {
   "cell_type": "code",
   "execution_count": 7,
   "outputs": [],
   "source": [
    "import numpy as np\n",
    "import pandas as pd"
   ],
   "metadata": {
    "collapsed": false,
    "pycharm": {
     "name": "#%%\n"
    }
   }
  },
  {
   "cell_type": "code",
   "execution_count": 8,
   "outputs": [],
   "source": [
    "from sklearn.model_selection import train_test_split\n",
    "data=pd.read_csv('mushrooms.partial.csv')\n",
    "data.info\n",
    "X_train,X_test,Y_train,Y_test=train_test_split(data.copy(),data['class'],train_size=0.8,test_size=0.2)"
   ],
   "metadata": {
    "collapsed": false,
    "pycharm": {
     "name": "#%%\n"
    }
   }
  },
  {
   "cell_type": "code",
   "execution_count": 9,
   "outputs": [],
   "source": [
    "X_train.to_csv(\"train.csv\")\n",
    "X_test.to_csv(\"test.csv\")\n"
   ],
   "metadata": {
    "collapsed": false,
    "pycharm": {
     "name": "#%%\n"
    }
   }
  }
 ],
 "metadata": {
  "kernelspec": {
   "display_name": "Python 3",
   "language": "python",
   "name": "python3"
  },
  "language_info": {
   "codemirror_mode": {
    "name": "ipython",
    "version": 2
   },
   "file_extension": ".py",
   "mimetype": "text/x-python",
   "name": "python",
   "nbconvert_exporter": "python",
   "pygments_lexer": "ipython2",
   "version": "2.7.6"
  }
 },
 "nbformat": 4,
 "nbformat_minor": 0
}