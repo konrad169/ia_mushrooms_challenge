{
 "cells": [
  {
   "cell_type": "code",
   "execution_count": 1,
   "metadata": {
    "collapsed": true,
    "pycharm": {
     "name": "#%%\n"
    }
   },
   "outputs": [],
   "source": [
    "import numpy as np\n",
    "import pandas as pd"
   ]
  },
  {
   "cell_type": "code",
   "execution_count": 2,
   "outputs": [],
   "source": [
    "#Lettura dei dataset\n",
    "train_ds=pd.read_csv('train.csv')\n",
    "test_ds=pd.read_csv('test.csv')"
   ],
   "metadata": {
    "collapsed": false,
    "pycharm": {
     "name": "#%%\n"
    }
   }
  },
  {
   "cell_type": "code",
   "execution_count": 3,
   "outputs": [
    {
     "name": "stdout",
     "output_type": "stream",
     "text": [
      "Unnamed: 0                  0\n",
      "class                       0\n",
      "cap-shape                   0\n",
      "cap-surface                 0\n",
      "cap-color                   0\n",
      "bruises                     0\n",
      "odor                        0\n",
      "gill-attachment             0\n",
      "gill-spacing                0\n",
      "gill-size                   0\n",
      "gill-color                  0\n",
      "stalk-shape                 0\n",
      "stalk-root                  0\n",
      "stalk-surface-above-ring    0\n",
      "stalk-surface-below-ring    0\n",
      "stalk-color-above-ring      0\n",
      "stalk-color-below-ring      0\n",
      "veil-type                   0\n",
      "veil-color                  0\n",
      "ring-number                 0\n",
      "ring-type                   0\n",
      "spore-print-color           0\n",
      "population                  0\n",
      "habitat                     0\n",
      "dtype: int64\n",
      "Unnamed: 0                  0\n",
      "class                       0\n",
      "cap-shape                   0\n",
      "cap-surface                 0\n",
      "cap-color                   0\n",
      "bruises                     0\n",
      "odor                        0\n",
      "gill-attachment             0\n",
      "gill-spacing                0\n",
      "gill-size                   0\n",
      "gill-color                  0\n",
      "stalk-shape                 0\n",
      "stalk-root                  0\n",
      "stalk-surface-above-ring    0\n",
      "stalk-surface-below-ring    0\n",
      "stalk-color-above-ring      0\n",
      "stalk-color-below-ring      0\n",
      "veil-type                   0\n",
      "veil-color                  0\n",
      "ring-number                 0\n",
      "ring-type                   0\n",
      "spore-print-color           0\n",
      "population                  0\n",
      "habitat                     0\n",
      "dtype: int64\n"
     ]
    }
   ],
   "source": [
    "#Check valori nulli\n",
    "print(train_ds.isnull().sum())\n",
    "print(test_ds.isnull().sum())"
   ],
   "metadata": {
    "collapsed": false,
    "pycharm": {
     "name": "#%%\n"
    }
   }
  },
  {
   "cell_type": "code",
   "execution_count": 4,
   "outputs": [
    {
     "data": {
      "text/plain": "<bound method DataFrame.info of       Unnamed: 0 class cap-shape cap-surface cap-color bruises odor  \\\n0           4741     e         f           y         e       t    n   \n1           5147     e         x           f         e       t    n   \n2           2107     p         x           s         e       f    s   \n3           1545     e         x           f         n       t    n   \n4           2168     p         x           y         n       t    p   \n...          ...   ...       ...         ...       ...     ...  ...   \n1295        5583     e         x           y         y       t    l   \n1296         514     e         x           f         w       f    n   \n1297        1720     e         x           s         w       f    n   \n1298        4344     e         f           y         n       t    a   \n1299        2073     e         f           y         g       t    n   \n\n     gill-attachment gill-spacing gill-size  ... stalk-surface-below-ring  \\\n0                  f            c         b  ...                        s   \n1                  f            c         b  ...                        s   \n2                  f            c         n  ...                        k   \n3                  f            c         b  ...                        s   \n4                  f            c         n  ...                        s   \n...              ...          ...       ...  ...                      ...   \n1295               f            c         b  ...                        y   \n1296               f            w         b  ...                        f   \n1297               f            w         b  ...                        f   \n1298               f            c         b  ...                        y   \n1299               f            c         b  ...                        s   \n\n     stalk-color-above-ring stalk-color-below-ring veil-type veil-color  \\\n0                         w                      p         p          w   \n1                         g                      p         p          w   \n2                         p                      w         p          w   \n3                         w                      g         p          w   \n4                         w                      w         p          w   \n...                     ...                    ...       ...        ...   \n1295                      w                      w         p          w   \n1296                      w                      w         p          w   \n1297                      w                      w         p          w   \n1298                      w                      w         p          w   \n1299                      g                      g         p          w   \n\n     ring-number ring-type spore-print-color population habitat  \n0              o         p                 n          y       d  \n1              o         p                 n          y       d  \n2              o         e                 w          v       l  \n3              o         p                 k          y       d  \n4              o         p                 n          s       g  \n...          ...       ...               ...        ...     ...  \n1295           o         p                 n          y       g  \n1296           o         e                 n          a       g  \n1297           o         e                 n          a       g  \n1298           o         p                 k          s       g  \n1299           o         p                 k          v       d  \n\n[1300 rows x 24 columns]>"
     },
     "execution_count": 4,
     "metadata": {},
     "output_type": "execute_result"
    }
   ],
   "source": [
    "#Diamo un'occhiata al dataset di training\n",
    "train_ds.info\n",
    "#Quello di test\n",
    "test_ds.info"
   ],
   "metadata": {
    "collapsed": false,
    "pycharm": {
     "name": "#%%\n"
    }
   }
  },
  {
   "cell_type": "code",
   "execution_count": 5,
   "outputs": [
    {
     "name": "stdout",
     "output_type": "stream",
     "text": [
      "<class 'pandas.core.frame.DataFrame'>\n",
      "RangeIndex: 5199 entries, 0 to 5198\n",
      "Data columns (total 24 columns):\n",
      " #   Column                    Non-Null Count  Dtype \n",
      "---  ------                    --------------  ----- \n",
      " 0   Unnamed: 0                5199 non-null   int64 \n",
      " 1   class                     5199 non-null   object\n",
      " 2   cap-shape                 5199 non-null   object\n",
      " 3   cap-surface               5199 non-null   object\n",
      " 4   cap-color                 5199 non-null   object\n",
      " 5   bruises                   5199 non-null   object\n",
      " 6   odor                      5199 non-null   object\n",
      " 7   gill-attachment           5199 non-null   object\n",
      " 8   gill-spacing              5199 non-null   object\n",
      " 9   gill-size                 5199 non-null   object\n",
      " 10  gill-color                5199 non-null   object\n",
      " 11  stalk-shape               5199 non-null   object\n",
      " 12  stalk-root                5199 non-null   object\n",
      " 13  stalk-surface-above-ring  5199 non-null   object\n",
      " 14  stalk-surface-below-ring  5199 non-null   object\n",
      " 15  stalk-color-above-ring    5199 non-null   object\n",
      " 16  stalk-color-below-ring    5199 non-null   object\n",
      " 17  veil-type                 5199 non-null   object\n",
      " 18  veil-color                5199 non-null   object\n",
      " 19  ring-number               5199 non-null   object\n",
      " 20  ring-type                 5199 non-null   object\n",
      " 21  spore-print-color         5199 non-null   object\n",
      " 22  population                5199 non-null   object\n",
      " 23  habitat                   5199 non-null   object\n",
      "dtypes: int64(1), object(23)\n",
      "memory usage: 974.9+ KB\n",
      "<class 'pandas.core.frame.DataFrame'>\n",
      "RangeIndex: 1300 entries, 0 to 1299\n",
      "Data columns (total 24 columns):\n",
      " #   Column                    Non-Null Count  Dtype \n",
      "---  ------                    --------------  ----- \n",
      " 0   Unnamed: 0                1300 non-null   int64 \n",
      " 1   class                     1300 non-null   object\n",
      " 2   cap-shape                 1300 non-null   object\n",
      " 3   cap-surface               1300 non-null   object\n",
      " 4   cap-color                 1300 non-null   object\n",
      " 5   bruises                   1300 non-null   object\n",
      " 6   odor                      1300 non-null   object\n",
      " 7   gill-attachment           1300 non-null   object\n",
      " 8   gill-spacing              1300 non-null   object\n",
      " 9   gill-size                 1300 non-null   object\n",
      " 10  gill-color                1300 non-null   object\n",
      " 11  stalk-shape               1300 non-null   object\n",
      " 12  stalk-root                1300 non-null   object\n",
      " 13  stalk-surface-above-ring  1300 non-null   object\n",
      " 14  stalk-surface-below-ring  1300 non-null   object\n",
      " 15  stalk-color-above-ring    1300 non-null   object\n",
      " 16  stalk-color-below-ring    1300 non-null   object\n",
      " 17  veil-type                 1300 non-null   object\n",
      " 18  veil-color                1300 non-null   object\n",
      " 19  ring-number               1300 non-null   object\n",
      " 20  ring-type                 1300 non-null   object\n",
      " 21  spore-print-color         1300 non-null   object\n",
      " 22  population                1300 non-null   object\n",
      " 23  habitat                   1300 non-null   object\n",
      "dtypes: int64(1), object(23)\n",
      "memory usage: 243.9+ KB\n"
     ]
    }
   ],
   "source": [
    "train_ds.info()\n",
    "test_ds.info()"
   ],
   "metadata": {
    "collapsed": false,
    "pycharm": {
     "name": "#%%\n"
    }
   }
  },
  {
   "cell_type": "code",
   "execution_count": 6,
   "outputs": [
    {
     "data": {
      "text/plain": "(1300, 24)"
     },
     "execution_count": 6,
     "metadata": {},
     "output_type": "execute_result"
    }
   ],
   "source": [
    "train_ds.shape\n",
    "test_ds.shape"
   ],
   "metadata": {
    "collapsed": false,
    "pycharm": {
     "name": "#%%\n"
    }
   }
  },
  {
   "cell_type": "code",
   "execution_count": 7,
   "outputs": [
    {
     "data": {
      "text/plain": "        Unnamed: 0\ncount  1300.000000\nmean   3197.053846\nstd    1878.691300\nmin       1.000000\n25%    1594.750000\n50%    3202.500000\n75%    4809.250000\nmax    6495.000000",
      "text/html": "<div>\n<style scoped>\n    .dataframe tbody tr th:only-of-type {\n        vertical-align: middle;\n    }\n\n    .dataframe tbody tr th {\n        vertical-align: top;\n    }\n\n    .dataframe thead th {\n        text-align: right;\n    }\n</style>\n<table border=\"1\" class=\"dataframe\">\n  <thead>\n    <tr style=\"text-align: right;\">\n      <th></th>\n      <th>Unnamed: 0</th>\n    </tr>\n  </thead>\n  <tbody>\n    <tr>\n      <th>count</th>\n      <td>1300.000000</td>\n    </tr>\n    <tr>\n      <th>mean</th>\n      <td>3197.053846</td>\n    </tr>\n    <tr>\n      <th>std</th>\n      <td>1878.691300</td>\n    </tr>\n    <tr>\n      <th>min</th>\n      <td>1.000000</td>\n    </tr>\n    <tr>\n      <th>25%</th>\n      <td>1594.750000</td>\n    </tr>\n    <tr>\n      <th>50%</th>\n      <td>3202.500000</td>\n    </tr>\n    <tr>\n      <th>75%</th>\n      <td>4809.250000</td>\n    </tr>\n    <tr>\n      <th>max</th>\n      <td>6495.000000</td>\n    </tr>\n  </tbody>\n</table>\n</div>"
     },
     "execution_count": 7,
     "metadata": {},
     "output_type": "execute_result"
    }
   ],
   "source": [
    "train_ds.describe()\n",
    "test_ds.describe()"
   ],
   "metadata": {
    "collapsed": false,
    "pycharm": {
     "name": "#%%\n"
    }
   }
  },
  {
   "cell_type": "code",
   "execution_count": 8,
   "outputs": [],
   "source": [
    "train_ds.replace('?',np.nan,inplace=True)\n",
    "test_ds.replace('?',np.nan,inplace=True)"
   ],
   "metadata": {
    "collapsed": false,
    "pycharm": {
     "name": "#%%\n"
    }
   }
  },
  {
   "cell_type": "code",
   "execution_count": 9,
   "outputs": [
    {
     "name": "stdout",
     "output_type": "stream",
     "text": [
      "Unnamed: 0                     0\n",
      "class                          0\n",
      "cap-shape                      0\n",
      "cap-surface                    0\n",
      "cap-color                      0\n",
      "bruises                        0\n",
      "odor                           0\n",
      "gill-attachment                0\n",
      "gill-spacing                   0\n",
      "gill-size                      0\n",
      "gill-color                     0\n",
      "stalk-shape                    0\n",
      "stalk-root                  1597\n",
      "stalk-surface-above-ring       0\n",
      "stalk-surface-below-ring       0\n",
      "stalk-color-above-ring         0\n",
      "stalk-color-below-ring         0\n",
      "veil-type                      0\n",
      "veil-color                     0\n",
      "ring-number                    0\n",
      "ring-type                      0\n",
      "spore-print-color              0\n",
      "population                     0\n",
      "habitat                        0\n",
      "dtype: int64\n",
      "Unnamed: 0                    0\n",
      "class                         0\n",
      "cap-shape                     0\n",
      "cap-surface                   0\n",
      "cap-color                     0\n",
      "bruises                       0\n",
      "odor                          0\n",
      "gill-attachment               0\n",
      "gill-spacing                  0\n",
      "gill-size                     0\n",
      "gill-color                    0\n",
      "stalk-shape                   0\n",
      "stalk-root                  410\n",
      "stalk-surface-above-ring      0\n",
      "stalk-surface-below-ring      0\n",
      "stalk-color-above-ring        0\n",
      "stalk-color-below-ring        0\n",
      "veil-type                     0\n",
      "veil-color                    0\n",
      "ring-number                   0\n",
      "ring-type                     0\n",
      "spore-print-color             0\n",
      "population                    0\n",
      "habitat                       0\n",
      "dtype: int64\n"
     ]
    }
   ],
   "source": [
    "print(train_ds.isnull().sum())\n",
    "print(test_ds.isnull().sum())"
   ],
   "metadata": {
    "collapsed": false,
    "pycharm": {
     "name": "#%%\n"
    }
   }
  },
  {
   "cell_type": "code",
   "execution_count": 10,
   "outputs": [],
   "source": [
    "#Essendo presenti valori nulli solo su stalk-root droppiamo dal dataframe la colonna\n",
    "train_ds.drop('stalk-root',axis=1,inplace=True)\n",
    "test_ds.drop('stalk-root',axis=1, inplace=True)"
   ],
   "metadata": {
    "collapsed": false,
    "pycharm": {
     "name": "#%%\n"
    }
   }
  },
  {
   "cell_type": "code",
   "execution_count": 11,
   "outputs": [
    {
     "name": "stdout",
     "output_type": "stream",
     "text": [
      "Variabili categoriche:\n",
      "['class', 'cap-shape', 'cap-surface', 'cap-color', 'bruises', 'odor', 'gill-attachment', 'gill-spacing', 'gill-size', 'gill-color', 'stalk-shape', 'stalk-surface-above-ring', 'stalk-surface-below-ring', 'stalk-color-above-ring', 'stalk-color-below-ring', 'veil-type', 'veil-color', 'ring-number', 'ring-type', 'spore-print-color', 'population', 'habitat']\n"
     ]
    }
   ],
   "source": [
    "c=(train_ds.dtypes==object)\n",
    "cols_obj=list(c[c].index)\n",
    "print('Variabili categoriche:')\n",
    "print(cols_obj)"
   ],
   "metadata": {
    "collapsed": false,
    "pycharm": {
     "name": "#%%\n"
    }
   }
  },
  {
   "cell_type": "code",
   "execution_count": 12,
   "outputs": [],
   "source": [
    "from sklearn.preprocessing import LabelEncoder\n",
    "label_train=train_ds.copy()\n",
    "label_encoder=LabelEncoder()\n",
    "for cols in cols_obj:\n",
    "    label_train[cols]=label_encoder.fit_transform(label_train[cols])\n",
    "\n",
    "label_test=train_ds.copy()\n",
    "for cols in cols_obj:\n",
    "    label_test[cols]=label_encoder.fit_transform((label_test[cols]))"
   ],
   "metadata": {
    "collapsed": false,
    "pycharm": {
     "name": "#%%\n"
    }
   }
  },
  {
   "cell_type": "code",
   "execution_count": 13,
   "outputs": [
    {
     "name": "stdout",
     "output_type": "stream",
     "text": [
      "\n"
     ]
    }
   ],
   "source": [
    "label_train\n",
    "print()"
   ],
   "metadata": {
    "collapsed": false,
    "pycharm": {
     "name": "#%%\n"
    }
   }
  },
  {
   "cell_type": "code",
   "execution_count": 14,
   "outputs": [
    {
     "data": {
      "text/plain": "      Unnamed: 0  class  cap-shape  cap-surface  cap-color  bruises  odor  \\\n0           2616      1          2            2          2        0     2   \n1           5631      0          0            3          9        1     0   \n2           2971      0          5            3          4        1     5   \n3           5054      1          2            3          4        0     8   \n4           1753      1          2            3          2        0     2   \n...          ...    ...        ...          ...        ...      ...   ...   \n5194        2765      1          2            3          2        0     2   \n5195        5472      0          2            3          2        1     5   \n5196        2426      1          5            2          8        1     2   \n5197        3029      1          2            2          0        1     2   \n5198          89      0          5            2          4        0     5   \n\n      gill-attachment  gill-spacing  gill-size  ...  stalk-surface-below-ring  \\\n0                   1             0          1  ...                         1   \n1                   1             0          0  ...                         2   \n2                   1             0          0  ...                         2   \n3                   1             0          1  ...                         1   \n4                   1             0          1  ...                         2   \n...               ...           ...        ...  ...                       ...   \n5194                1             0          1  ...                         1   \n5195                1             0          0  ...                         2   \n5196                1             0          0  ...                         0   \n5197                1             0          0  ...                         2   \n5198                1             1          0  ...                         2   \n\n      stalk-color-above-ring  stalk-color-below-ring  veil-type  veil-color  \\\n0                          6                       6          0           2   \n1                          7                       7          0           2   \n2                          6                       7          0           2   \n3                          6                       7          0           2   \n4                          6                       7          0           2   \n...                      ...                     ...        ...         ...   \n5194                       7                       6          0           2   \n5195                       7                       6          0           2   \n5196                       7                       7          0           2   \n5197                       7                       7          0           2   \n5198                       7                       7          0           2   \n\n      ring-number  ring-type  spore-print-color  population  habitat  \n0               1          0                  7           4        2  \n1               1          4                  3           3        1  \n2               1          4                  3           4        0  \n3               1          0                  7           4        4  \n4               1          0                  7           4        0  \n...           ...        ...                ...         ...      ...  \n5194            1          0                  7           4        0  \n5195            1          4                  3           4        0  \n5196            1          4                  1           3        1  \n5197            1          4                  1           3        5  \n5198            1          0                  2           3        1  \n\n[5199 rows x 23 columns]",
      "text/html": "<div>\n<style scoped>\n    .dataframe tbody tr th:only-of-type {\n        vertical-align: middle;\n    }\n\n    .dataframe tbody tr th {\n        vertical-align: top;\n    }\n\n    .dataframe thead th {\n        text-align: right;\n    }\n</style>\n<table border=\"1\" class=\"dataframe\">\n  <thead>\n    <tr style=\"text-align: right;\">\n      <th></th>\n      <th>Unnamed: 0</th>\n      <th>class</th>\n      <th>cap-shape</th>\n      <th>cap-surface</th>\n      <th>cap-color</th>\n      <th>bruises</th>\n      <th>odor</th>\n      <th>gill-attachment</th>\n      <th>gill-spacing</th>\n      <th>gill-size</th>\n      <th>...</th>\n      <th>stalk-surface-below-ring</th>\n      <th>stalk-color-above-ring</th>\n      <th>stalk-color-below-ring</th>\n      <th>veil-type</th>\n      <th>veil-color</th>\n      <th>ring-number</th>\n      <th>ring-type</th>\n      <th>spore-print-color</th>\n      <th>population</th>\n      <th>habitat</th>\n    </tr>\n  </thead>\n  <tbody>\n    <tr>\n      <th>0</th>\n      <td>2616</td>\n      <td>1</td>\n      <td>2</td>\n      <td>2</td>\n      <td>2</td>\n      <td>0</td>\n      <td>2</td>\n      <td>1</td>\n      <td>0</td>\n      <td>1</td>\n      <td>...</td>\n      <td>1</td>\n      <td>6</td>\n      <td>6</td>\n      <td>0</td>\n      <td>2</td>\n      <td>1</td>\n      <td>0</td>\n      <td>7</td>\n      <td>4</td>\n      <td>2</td>\n    </tr>\n    <tr>\n      <th>1</th>\n      <td>5631</td>\n      <td>0</td>\n      <td>0</td>\n      <td>3</td>\n      <td>9</td>\n      <td>1</td>\n      <td>0</td>\n      <td>1</td>\n      <td>0</td>\n      <td>0</td>\n      <td>...</td>\n      <td>2</td>\n      <td>7</td>\n      <td>7</td>\n      <td>0</td>\n      <td>2</td>\n      <td>1</td>\n      <td>4</td>\n      <td>3</td>\n      <td>3</td>\n      <td>1</td>\n    </tr>\n    <tr>\n      <th>2</th>\n      <td>2971</td>\n      <td>0</td>\n      <td>5</td>\n      <td>3</td>\n      <td>4</td>\n      <td>1</td>\n      <td>5</td>\n      <td>1</td>\n      <td>0</td>\n      <td>0</td>\n      <td>...</td>\n      <td>2</td>\n      <td>6</td>\n      <td>7</td>\n      <td>0</td>\n      <td>2</td>\n      <td>1</td>\n      <td>4</td>\n      <td>3</td>\n      <td>4</td>\n      <td>0</td>\n    </tr>\n    <tr>\n      <th>3</th>\n      <td>5054</td>\n      <td>1</td>\n      <td>2</td>\n      <td>3</td>\n      <td>4</td>\n      <td>0</td>\n      <td>8</td>\n      <td>1</td>\n      <td>0</td>\n      <td>1</td>\n      <td>...</td>\n      <td>1</td>\n      <td>6</td>\n      <td>7</td>\n      <td>0</td>\n      <td>2</td>\n      <td>1</td>\n      <td>0</td>\n      <td>7</td>\n      <td>4</td>\n      <td>4</td>\n    </tr>\n    <tr>\n      <th>4</th>\n      <td>1753</td>\n      <td>1</td>\n      <td>2</td>\n      <td>3</td>\n      <td>2</td>\n      <td>0</td>\n      <td>2</td>\n      <td>1</td>\n      <td>0</td>\n      <td>1</td>\n      <td>...</td>\n      <td>2</td>\n      <td>6</td>\n      <td>7</td>\n      <td>0</td>\n      <td>2</td>\n      <td>1</td>\n      <td>0</td>\n      <td>7</td>\n      <td>4</td>\n      <td>0</td>\n    </tr>\n    <tr>\n      <th>...</th>\n      <td>...</td>\n      <td>...</td>\n      <td>...</td>\n      <td>...</td>\n      <td>...</td>\n      <td>...</td>\n      <td>...</td>\n      <td>...</td>\n      <td>...</td>\n      <td>...</td>\n      <td>...</td>\n      <td>...</td>\n      <td>...</td>\n      <td>...</td>\n      <td>...</td>\n      <td>...</td>\n      <td>...</td>\n      <td>...</td>\n      <td>...</td>\n      <td>...</td>\n      <td>...</td>\n    </tr>\n    <tr>\n      <th>5194</th>\n      <td>2765</td>\n      <td>1</td>\n      <td>2</td>\n      <td>3</td>\n      <td>2</td>\n      <td>0</td>\n      <td>2</td>\n      <td>1</td>\n      <td>0</td>\n      <td>1</td>\n      <td>...</td>\n      <td>1</td>\n      <td>7</td>\n      <td>6</td>\n      <td>0</td>\n      <td>2</td>\n      <td>1</td>\n      <td>0</td>\n      <td>7</td>\n      <td>4</td>\n      <td>0</td>\n    </tr>\n    <tr>\n      <th>5195</th>\n      <td>5472</td>\n      <td>0</td>\n      <td>2</td>\n      <td>3</td>\n      <td>2</td>\n      <td>1</td>\n      <td>5</td>\n      <td>1</td>\n      <td>0</td>\n      <td>0</td>\n      <td>...</td>\n      <td>2</td>\n      <td>7</td>\n      <td>6</td>\n      <td>0</td>\n      <td>2</td>\n      <td>1</td>\n      <td>4</td>\n      <td>3</td>\n      <td>4</td>\n      <td>0</td>\n    </tr>\n    <tr>\n      <th>5196</th>\n      <td>2426</td>\n      <td>1</td>\n      <td>5</td>\n      <td>2</td>\n      <td>8</td>\n      <td>1</td>\n      <td>2</td>\n      <td>1</td>\n      <td>0</td>\n      <td>0</td>\n      <td>...</td>\n      <td>0</td>\n      <td>7</td>\n      <td>7</td>\n      <td>0</td>\n      <td>2</td>\n      <td>1</td>\n      <td>4</td>\n      <td>1</td>\n      <td>3</td>\n      <td>1</td>\n    </tr>\n    <tr>\n      <th>5197</th>\n      <td>3029</td>\n      <td>1</td>\n      <td>2</td>\n      <td>2</td>\n      <td>0</td>\n      <td>1</td>\n      <td>2</td>\n      <td>1</td>\n      <td>0</td>\n      <td>0</td>\n      <td>...</td>\n      <td>2</td>\n      <td>7</td>\n      <td>7</td>\n      <td>0</td>\n      <td>2</td>\n      <td>1</td>\n      <td>4</td>\n      <td>1</td>\n      <td>3</td>\n      <td>5</td>\n    </tr>\n    <tr>\n      <th>5198</th>\n      <td>89</td>\n      <td>0</td>\n      <td>5</td>\n      <td>2</td>\n      <td>4</td>\n      <td>0</td>\n      <td>5</td>\n      <td>1</td>\n      <td>1</td>\n      <td>0</td>\n      <td>...</td>\n      <td>2</td>\n      <td>7</td>\n      <td>7</td>\n      <td>0</td>\n      <td>2</td>\n      <td>1</td>\n      <td>0</td>\n      <td>2</td>\n      <td>3</td>\n      <td>1</td>\n    </tr>\n  </tbody>\n</table>\n<p>5199 rows × 23 columns</p>\n</div>"
     },
     "execution_count": 14,
     "metadata": {},
     "output_type": "execute_result"
    }
   ],
   "source": [
    "label_test"
   ],
   "metadata": {
    "collapsed": false,
    "pycharm": {
     "name": "#%%\n"
    }
   }
  },
  {
   "cell_type": "code",
   "execution_count": 15,
   "outputs": [],
   "source": [
    "y_train=label_train['class']\n",
    "y_test=label_test['class']\n",
    "x_train=label_train.drop('class',axis=1)\n",
    "x_test=label_test.drop('class',axis=1)"
   ],
   "metadata": {
    "collapsed": false,
    "pycharm": {
     "name": "#%%\n"
    }
   }
  },
  {
   "cell_type": "code",
   "execution_count": 16,
   "outputs": [
    {
     "name": "stdout",
     "output_type": "stream",
     "text": [
      "MAE: 0.0\n",
      "Accuracy su training set 1.0\n",
      "Accuracy su test set: 1.0\n"
     ]
    }
   ],
   "source": [
    "#Utilizzo DecisionTreeClassifier\n",
    "from sklearn.tree import DecisionTreeClassifier\n",
    "from sklearn.metrics import mean_absolute_error\n",
    "\n",
    "mushrooms_model=DecisionTreeClassifier(random_state=0)\n",
    "#Effettuo il training sul modello\n",
    "mushrooms_model.fit(x_train,y_train)\n",
    "#Calcolo del MAE e validazione\n",
    "predict_valueDT=mushrooms_model.predict(x_test)\n",
    "print(\"MAE:\",mean_absolute_error(y_test,predict_valueDT))\n",
    "print(\"Accuracy su training set\",mushrooms_model.score(x_train, y_train))\n",
    "print(\"Accuracy su test set:\",mushrooms_model.score(x_test, y_test))"
   ],
   "metadata": {
    "collapsed": false,
    "pycharm": {
     "name": "#%%\n"
    }
   }
  },
  {
   "cell_type": "code",
   "execution_count": 17,
   "outputs": [
    {
     "name": "stdout",
     "output_type": "stream",
     "text": [
      "Accuracy Score Decision Tree: 100.0\n"
     ]
    }
   ],
   "source": [
    "from sklearn.metrics import accuracy_score\n",
    "#Accuracy del modello\n",
    "accuracy_scoreDT=accuracy_score(predict_valueDT.round(),y_test)*100\n",
    "print(\"Accuracy Score Decision Tree:\",accuracy_scoreDT)"
   ],
   "metadata": {
    "collapsed": false,
    "pycharm": {
     "name": "#%%\n"
    }
   }
  },
  {
   "cell_type": "code",
   "execution_count": 18,
   "outputs": [
    {
     "name": "stdout",
     "output_type": "stream",
     "text": [
      "MAE: 0.04770148105404885\n",
      "Accuracy sul training set: 0.9522985189459512\n",
      "Accuracy sul test set: 0.9522985189459512\n"
     ]
    }
   ],
   "source": [
    "#Utilizzo Logistic Regression\n",
    "from sklearn.linear_model import LogisticRegression\n",
    "logistic_model= LogisticRegression(solver='lbfgs', max_iter=6000)\n",
    "logistic_model.fit(x_train,y_train)\n",
    "predict_valueLR=logistic_model.predict(x_test)\n",
    "print(\"MAE:\", mean_absolute_error(y_test,predict_valueLR))\n",
    "print(\"Accuracy sul training set:\", logistic_model.score(x_train,y_train))\n",
    "print(\"Accuracy sul test set:\", logistic_model.score(x_test,y_test))"
   ],
   "metadata": {
    "collapsed": false,
    "pycharm": {
     "name": "#%%\n"
    }
   }
  },
  {
   "cell_type": "code",
   "execution_count": 18,
   "outputs": [],
   "source": [],
   "metadata": {
    "collapsed": false,
    "pycharm": {
     "name": "#%%\n"
    }
   }
  }
 ],
 "metadata": {
  "kernelspec": {
   "display_name": "Python 3",
   "language": "python",
   "name": "python3"
  },
  "language_info": {
   "codemirror_mode": {
    "name": "ipython",
    "version": 2
   },
   "file_extension": ".py",
   "mimetype": "text/x-python",
   "name": "python",
   "nbconvert_exporter": "python",
   "pygments_lexer": "ipython2",
   "version": "2.7.6"
  }
 },
 "nbformat": 4,
 "nbformat_minor": 0
}